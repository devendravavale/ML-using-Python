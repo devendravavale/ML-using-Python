{
 "cells": [
  {
   "cell_type": "code",
   "execution_count": 26,
   "metadata": {},
   "outputs": [],
   "source": [
    "class LogisticRegression(object):\n",
    "    \"\"\" Logistic regression predictor for 2D data \"\"\"\n",
    "    \n",
    "    def __init__(self,x_train,y_train):\n",
    "        \"\"\" Inputs the training data: (x_train = predictor, y_train = predictions for x_train)\"\"\"\n",
    "        self.x_train = x_train\n",
    "        self.y_train = y_train\n",
    "         \n",
    "    def fit(self,params,iterations,alpha):\n",
    "        \"\"\" Fits a logistic regression model for given x_train and y_train using gradient descent technique of \n",
    "            optimization and returns the value of parameters/ weights.\n",
    "            (params = initial guess of parameters, iterations = number of iterations to \n",
    "            be performed for optimization, alpha = step size)\"\"\"\n",
    "        \n",
    "        i=0\n",
    "        \n",
    "        # Gradient descent optimization loop\n",
    "        while i < iterations:\n",
    "            hyp = 1/(1+np.exp(-(params[0]+params[1]*self.x_train)))\n",
    "            gradient = sum((-2)*(self.y_train-hyp)),sum((-2)*(self.y_train-hyp)*self.x_train)\n",
    "            step_size = gradient[0]*alpha,gradient[1]*alpha\n",
    "            params = params[0]-step_size[0],params[1]-step_size[1] #new parameters\n",
    "            i += 1\n",
    "            \n",
    "            if i < 6 or i > iterations - 5:\n",
    "            #Printing the values for first and last 5 iterations so that decision can be made on iterations and alpha:\n",
    "                print('___________________________________')\n",
    "                print('Iteration: {}'.format(i))\n",
    "                print('Cost: {}'.format(sum(self.y_train*np.log(hyp)+(1-self.y_train)*np.log(1-hyp))))\n",
    "                print (\"Parameters: {}\".format(params))\n",
    "            \n",
    "        return params\n",
    "    \n",
    "    def predict(self, x_test):\n",
    "        \"\"\" Makes predictions for new data x_test using the trained model\"\"\"\n",
    "        prob = 1/(1+np.exp(-(params[0]+params[1]*x_test)))\n",
    "        y_pred = np.zeros(x_test.shape,dtype=int)\n",
    "        i = 0\n",
    "        while i < len(x_test):\n",
    "            if prob[i] <= 0.5:\n",
    "                y_pred[i] = 0\n",
    "            else:\n",
    "                y_pred[i] = 1\n",
    "            i += 1\n",
    "        return y_pred\n",
    "        "
   ]
  },
  {
   "cell_type": "code",
   "execution_count": 27,
   "metadata": {},
   "outputs": [],
   "source": [
    "# Importing libraries\n",
    "import numpy as np\n",
    "import matplotlib.pyplot as plt\n",
    "%matplotlib inline"
   ]
  },
  {
   "cell_type": "code",
   "execution_count": 28,
   "metadata": {},
   "outputs": [],
   "source": [
    "# Input training data\n",
    "x_train = np.array([1,2,3,4,5,6,7,8,9,10])\n",
    "y_train = np.array([0,0,0,0,1,1,1,1,1,1])\n",
    "mod = LogisticRegression(x_train=x_train,y_train=y_train)"
   ]
  },
  {
   "cell_type": "code",
   "execution_count": 29,
   "metadata": {},
   "outputs": [
    {
     "data": {
      "text/plain": [
       "<matplotlib.collections.PathCollection at 0x61f57d0>"
      ]
     },
     "execution_count": 29,
     "metadata": {},
     "output_type": "execute_result"
    },
    {
     "data": {
      "image/png": "[encoded data removed]",
      "text/plain": [
       "<Figure size 432x288 with 1 Axes>"
      ]
     },
     "metadata": {
      "needs_background": "light"
     },
     "output_type": "display_data"
    }
   ],
   "source": [
    "# Ploting training data\n",
    "plt.scatter(x_train,y_train)"
   ]
  },
  {
   "cell_type": "code",
   "execution_count": 30,
   "metadata": {},
   "outputs": [
    {
     "name": "stdout",
     "output_type": "stream",
     "text": [
      "___________________________________\n",
      "Iteration: 1\n",
      "Cost: -12.3275406931\n",
      "Parameters: (0.42610025569431575, 0.8100365993597367)\n",
      "___________________________________\n",
      "Iteration: 2\n",
      "Cost: -10.2827319444\n",
      "Parameters: (0.3548805924374145, 0.6266960256852767)\n",
      "___________________________________\n",
      "Iteration: 3\n",
      "Cost: -8.40793743533\n",
      "Parameters: (0.28793964321136434, 0.4565046998145659)\n",
      "___________________________________\n",
      "Iteration: 4\n",
      "Cost: -6.84756923709\n",
      "Parameters: (0.22808476667073813, 0.3140388341819715)\n",
      "___________________________________\n",
      "Iteration: 5\n",
      "Cost: -5.83425551053\n",
      "Parameters: (0.17923568650447558, 0.2252959685962223)\n",
      "___________________________________\n",
      "Iteration: 2996\n",
      "Cost: -0.581666065183\n",
      "Parameters: (-10.773100476814633, 2.4310538325882587)\n",
      "___________________________________\n",
      "Iteration: 2997\n",
      "Cost: -0.581569421857\n",
      "Parameters: (-10.774458122439905, 2.4313522043235576)\n",
      "___________________________________\n",
      "Iteration: 2998\n",
      "Cost: -0.581472821137\n",
      "Parameters: (-10.775815468636996, 2.4316505112662608)\n",
      "___________________________________\n",
      "Iteration: 2999\n",
      "Cost: -0.581376262989\n",
      "Parameters: (-10.777172515576238, 2.4319487534527573)\n",
      "___________________________________\n",
      "Iteration: 3000\n",
      "Cost: -0.581279747379\n",
      "Parameters: (-10.7785292634278, 2.4322469309194035)\n"
     ]
    }
   ],
   "source": [
    "# Fitting the model to sigmoid function\n",
    "params = mod.fit(params = np.array([0.5,1]),iterations = 3000,alpha = 0.01)"
   ]
  },
  {
   "cell_type": "code",
   "execution_count": 31,
   "metadata": {},
   "outputs": [
    {
     "data": {
      "text/plain": [
       "<matplotlib.collections.PathCollection at 0x622be70>"
      ]
     },
     "execution_count": 31,
     "metadata": {},
     "output_type": "execute_result"
    },
    {
     "data": {
      "image/png": "[encoded data removed]",
      "text/plain": [
       "<Figure size 432x288 with 1 Axes>"
      ]
     },
     "metadata": {
      "needs_background": "light"
     },
     "output_type": "display_data"
    }
   ],
   "source": [
    "# plot the model:\n",
    "x1 = np.arange(0,10,0.01)\n",
    "y1 = 1/(1+np.exp(-(params[0]+params[1]*x1)))\n",
    "plt.plot(x1,y1)\n",
    "plt.scatter(x_train,y_train)"
   ]
  },
  {
   "cell_type": "code",
   "execution_count": 32,
   "metadata": {},
   "outputs": [
    {
     "data": {
      "text/plain": [
       "array([0, 1, 1, 0, 0, 1])"
      ]
     },
     "execution_count": 32,
     "metadata": {},
     "output_type": "execute_result"
    }
   ],
   "source": [
    "# Making predictions on new data:\n",
    "x_test = np.array([-2,100,20,0.2,3.3,22])\n",
    "y_pred = mod.predict(x_test)\n",
    "y_pred"
   ]
  }
 ],
 "metadata": {
  "kernelspec": {
   "display_name": "Python 2",
   "language": "python",
   "name": "python2"
  },
  "language_info": {
   "codemirror_mode": {
    "name": "ipython",
    "version": 2
   },
   "file_extension": ".py",
   "mimetype": "text/x-python",
   "name": "python",
   "nbconvert_exporter": "python",
   "pygments_lexer": "ipython2",
   "version": "2.7.16"
  }
 },
 "nbformat": 4,
 "nbformat_minor": 2
}
