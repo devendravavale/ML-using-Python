{
 "cells": [
  {
   "cell_type": "code",
   "execution_count": 144,
   "metadata": {},
   "outputs": [],
   "source": [
    "class For_PCA(object):\n",
    "    '''Does Principal Component Analysis and if possible, reduces the dimensionality of the given dataframe\n",
    "    while retaining minimum 90% varaince. It also enables one to get a scree plot of the prinicpal components'''\n",
    "    \n",
    "    def __init__(self,dataset):\n",
    "        '''Inputs a dataframe and converts it to an array. The dataframe must have numeric data'''\n",
    "        \n",
    "        self.dataset =dataset.to_numpy()\n",
    "        \n",
    "        #Check if the data is numeric\n",
    "        if self.dataset.dtype != 'float64' and self.dataset.dtype != 'int32':\n",
    "            raise Exception('The data is not numeric')\n",
    "    ``\n",
    "    def eigens(self):\n",
    "        '''Returns eigen vectors and eigen values for the covariance matrix  of attributes from input dataframe'''\n",
    "            \n",
    "        #Mean normalisation of all the attributes\n",
    "        for i in range (0,self.dataset.shape[1]):\n",
    "            self.dataset[:,i]= self.dataset[:,i]-np.mean(self.dataset[:,i])\n",
    "        \n",
    "        #Evaluate covariance matrix of the mean normalized data\n",
    "        cov_mat=np.cov(np.transpose(self.dataset))\n",
    "        \n",
    "        #Evaluate eigen values and eigen vectors of the covariance matrix\n",
    "        eigen = np.linalg.eig(cov_mat)\n",
    "        \n",
    "        return eigen\n",
    "    \n",
    "    def pca(self):\n",
    "        '''Performs PCA using eigen vectors and eigen values from the \"eigens\" function. If possible, returns \n",
    "        a new dataframe of the principal components with reduced dimensionality while retaining 90% variance'''\n",
    "        \n",
    "        eigen_vec = self.eigens()[1] #Eigen vectors\n",
    "        eigen_val = self.eigens()[0] #Eigen values\n",
    "        \n",
    "        #Extracting relevant eigen values and corresponding vectors depending on variance\n",
    "        var = np.array([])  \n",
    "        for i in range (0,len(eigen_val)):  #Evaluate variance contribution\n",
    "            var = np.append(var,(sum(eigen_val[0:i])/sum(eigen_val))*100)\n",
    "        ind = np.where(var>90)[0][0]  #90% variance condition\n",
    "        eigen_vec_extract = eigen_vec[:,:ind+1] #corresponding eigen vectors\n",
    "        \n",
    "        #Linear transformation to the new vector space of possibly less dimensions\n",
    "        pca = np.transpose(np.dot(np.transpose(eigen_vec_extract),np.transpose(self.dataset)))\n",
    "        \n",
    "        #Creating a dataframe of the principal components\n",
    "        colnames=[]\n",
    "        for i in range(1,ind+2):\n",
    "            colnames.append('PC'+str(i))\n",
    "        fin_dataframe = pd.DataFrame(pca,columns=colnames)\n",
    "        \n",
    "        return fin_dataframe\n",
    "    \n",
    "    def scree_plot(self):\n",
    "        '''Creates a scree plot for all the principal components so that one can decide if it is advantegous\n",
    "        to perform PCA.'''\n",
    "        eigen_val = self.eigens()[0] #Eigen values\n",
    "        var = (eigen_val/sum(eigen_val))*100 #Variance contribution\n",
    "        \n",
    "        #X axis Principal component names\n",
    "        pcs=np.array([])\n",
    "        for i in range(1,len(var)+1):\n",
    "            pcs = np.append(pcs,['PC'+str(i)])\n",
    "        \n",
    "        return sns.barplot(x = pcs,y=var), plt.title('Scree Plot')\n",
    "        \n",
    "            "
   ]
  },
  {
   "cell_type": "code",
   "execution_count": 145,
   "metadata": {},
   "outputs": [],
   "source": [
    "#Importing libraries\n",
    "import pandas as pd\n",
    "import numpy as np\n",
    "import seaborn as sns\n",
    "import matplotlib.pyplot as plt"
   ]
  },
  {
   "cell_type": "code",
   "execution_count": 146,
   "metadata": {},
   "outputs": [],
   "source": [
    "#Import Iris dataset \n",
    "dataset=pd.read_csv('Iris.csv')\n",
    "dataset.drop('species',axis=1,inplace=True)\n"
   ]
  },
  {
   "cell_type": "code",
   "execution_count": 147,
   "metadata": {},
   "outputs": [
    {
     "data": {
      "text/plain": [
       "(<matplotlib.axes._subplots.AxesSubplot at 0xc2508d0>,\n",
       " Text(0.5,1,'Scree Plot'))"
      ]
     },
     "execution_count": 147,
     "metadata": {},
     "output_type": "execute_result"
    },
    {
     "data": {
      "image/png": "[encoded data removed]",
      "text/plain": [
       "<Figure size 432x288 with 1 Axes>"
      ]
     },
     "metadata": {
      "needs_background": "light"
     },
     "output_type": "display_data"
    }
   ],
   "source": [
    "#Scree plot of variance contribution of individual principal components\n",
    "data_pca = For_PCA(dataset=dataset)\n",
    "data_pca.scree_plot()"
   ]
  },
  {
   "cell_type": "code",
   "execution_count": 148,
   "metadata": {},
   "outputs": [
    {
     "data": {
      "text/html": [
       "<div>\n",
       "<style scoped>\n",
       "    .dataframe tbody tr th:only-of-type {\n",
       "        vertical-align: middle;\n",
       "    }\n",
       "\n",
       "    .dataframe tbody tr th {\n",
       "        vertical-align: top;\n",
       "    }\n",
       "\n",
       "    .dataframe thead th {\n",
       "        text-align: right;\n",
       "    }\n",
       "</style>\n",
       "<table border=\"1\" class=\"dataframe\">\n",
       "  <thead>\n",
       "    <tr style=\"text-align: right;\">\n",
       "      <th></th>\n",
       "      <th>PC1</th>\n",
       "      <th>PC2</th>\n",
       "    </tr>\n",
       "  </thead>\n",
       "  <tbody>\n",
       "    <tr>\n",
       "      <th>0</th>\n",
       "      <td>-2.684126</td>\n",
       "      <td>-0.319397</td>\n",
       "    </tr>\n",
       "    <tr>\n",
       "      <th>1</th>\n",
       "      <td>-2.714142</td>\n",
       "      <td>0.177001</td>\n",
       "    </tr>\n",
       "    <tr>\n",
       "      <th>2</th>\n",
       "      <td>-2.888991</td>\n",
       "      <td>0.144949</td>\n",
       "    </tr>\n",
       "    <tr>\n",
       "      <th>3</th>\n",
       "      <td>-2.745343</td>\n",
       "      <td>0.318299</td>\n",
       "    </tr>\n",
       "    <tr>\n",
       "      <th>4</th>\n",
       "      <td>-2.728717</td>\n",
       "      <td>-0.326755</td>\n",
       "    </tr>\n",
       "  </tbody>\n",
       "</table>\n",
       "</div>"
      ],
      "text/plain": [
       "        PC1       PC2\n",
       "0 -2.684126 -0.319397\n",
       "1 -2.714142  0.177001\n",
       "2 -2.888991  0.144949\n",
       "3 -2.745343  0.318299\n",
       "4 -2.728717 -0.326755"
      ]
     },
     "execution_count": 148,
     "metadata": {},
     "output_type": "execute_result"
    }
   ],
   "source": [
    "#Dimensionality reduction and new dataframe of principal components\n",
    "data_pca = data_pca.pca()\n",
    "data_pca.head()\n"
   ]
  },
  {
   "cell_type": "code",
   "execution_count": 149,
   "metadata": {},
   "outputs": [
    {
     "data": {
      "text/html": [
       "<div>\n",
       "<style scoped>\n",
       "    .dataframe tbody tr th:only-of-type {\n",
       "        vertical-align: middle;\n",
       "    }\n",
       "\n",
       "    .dataframe tbody tr th {\n",
       "        vertical-align: top;\n",
       "    }\n",
       "\n",
       "    .dataframe thead th {\n",
       "        text-align: right;\n",
       "    }\n",
       "</style>\n",
       "<table border=\"1\" class=\"dataframe\">\n",
       "  <thead>\n",
       "    <tr style=\"text-align: right;\">\n",
       "      <th></th>\n",
       "      <th>PC1</th>\n",
       "      <th>PC2</th>\n",
       "      <th>species</th>\n",
       "    </tr>\n",
       "  </thead>\n",
       "  <tbody>\n",
       "    <tr>\n",
       "      <th>0</th>\n",
       "      <td>-2.684126</td>\n",
       "      <td>-0.319397</td>\n",
       "      <td>setosa</td>\n",
       "    </tr>\n",
       "    <tr>\n",
       "      <th>1</th>\n",
       "      <td>-2.714142</td>\n",
       "      <td>0.177001</td>\n",
       "      <td>setosa</td>\n",
       "    </tr>\n",
       "    <tr>\n",
       "      <th>2</th>\n",
       "      <td>-2.888991</td>\n",
       "      <td>0.144949</td>\n",
       "      <td>setosa</td>\n",
       "    </tr>\n",
       "    <tr>\n",
       "      <th>3</th>\n",
       "      <td>-2.745343</td>\n",
       "      <td>0.318299</td>\n",
       "      <td>setosa</td>\n",
       "    </tr>\n",
       "    <tr>\n",
       "      <th>4</th>\n",
       "      <td>-2.728717</td>\n",
       "      <td>-0.326755</td>\n",
       "      <td>setosa</td>\n",
       "    </tr>\n",
       "  </tbody>\n",
       "</table>\n",
       "</div>"
      ],
      "text/plain": [
       "        PC1       PC2 species\n",
       "0 -2.684126 -0.319397  setosa\n",
       "1 -2.714142  0.177001  setosa\n",
       "2 -2.888991  0.144949  setosa\n",
       "3 -2.745343  0.318299  setosa\n",
       "4 -2.728717 -0.326755  setosa"
      ]
     },
     "execution_count": 149,
     "metadata": {},
     "output_type": "execute_result"
    }
   ],
   "source": [
    "#Adding class labels to the new principal components dataframe\n",
    "data_pca['species'] = pd.read_csv('Iris.csv')['species']\n",
    "data_pca.head()"
   ]
  },
  {
   "cell_type": "code",
   "execution_count": 151,
   "metadata": {},
   "outputs": [
    {
     "data": {
      "text/plain": [
       "<matplotlib.axes._subplots.AxesSubplot at 0xc650230>"
      ]
     },
     "execution_count": 151,
     "metadata": {},
     "output_type": "execute_result"
    },
    {
     "data": {
      "image/png": "[encoded data removed]",
      "text/plain": [
       "<Figure size 432x288 with 1 Axes>"
      ]
     },
     "metadata": {
      "needs_background": "light"
     },
     "output_type": "display_data"
    }
   ],
   "source": [
    "#Plot using two new dimensions (attributes)\n",
    "sns.scatterplot(data_pca['PC1'],data_pca['PC2'],hue=data_pca['species'])"
   ]
  },
  {
   "cell_type": "code",
   "execution_count": null,
   "metadata": {},
   "outputs": [],
   "source": []
  }
 ],
 "metadata": {
  "kernelspec": {
   "display_name": "Python 2",
   "language": "python",
   "name": "python2"
  },
  "language_info": {
   "codemirror_mode": {
    "name": "ipython",
    "version": 2
   },
   "file_extension": ".py",
   "mimetype": "text/x-python",
   "name": "python",
   "nbconvert_exporter": "python",
   "pygments_lexer": "ipython2",
   "version": "2.7.16"
  }
 },
 "nbformat": 4,
 "nbformat_minor": 2
}
