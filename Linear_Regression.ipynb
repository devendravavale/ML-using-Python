{
 "cells": [
  {
   "cell_type": "code",
   "execution_count": 8,
   "metadata": {},
   "outputs": [],
   "source": [
    "class LinearRegression(object):\n",
    "    \"\"\" Linear regression predictor for 2D data \"\"\"\n",
    "    \n",
    "    def __init__(self,x_train,y_train):\n",
    "        \"\"\" Inputs the training data: (x_train = predictor, y_train = predictions for x_train)\"\"\"\n",
    "        self.x_train = x_train\n",
    "        self.y_train = y_train\n",
    "         \n",
    "    def fit(self,params,iterations,alpha):\n",
    "        \"\"\" Fits linear model for given x_train and y_train using gradient descent technique of \n",
    "            optimization and returns the value of parameters/ weights.\n",
    "            (params = initial guess of parameters, iterations = number of iterations to \n",
    "            be performed for optimization, alpha = step size)\"\"\"\n",
    "        \n",
    "        i=0\n",
    "        \n",
    "        # Gradient descent optimization loop\n",
    "        while i < iterations:\n",
    "            hyp = params[0]+params[1]*self.x_train #hypothesis function\n",
    "            gradient = sum((-2)*(self.y_train-hyp)),sum((-2)*(self.y_train-hyp)*self.x_train)\n",
    "            step_size = gradient[0]*alpha,gradient[1]*alpha\n",
    "            params = params[0]-step_size[0],params[1]-step_size[1] #new parameters\n",
    "            i += 1\n",
    "            \n",
    "            if i < 6 or i > iterations - 5:\n",
    "            #Printing the values for first and last 5 iterations so that decision can be made on iterations and alpha:\n",
    "                print('___________________________________')\n",
    "                print('Iteration: {}'.format(i))\n",
    "                print('Cost: {}'.format(sum((self.y_train-hyp)**2)))\n",
    "                print (\"Parameters: {}\".format(params))\n",
    "            \n",
    "        return params\n",
    "    \n",
    "    def predict(self, x_test):\n",
    "        \"\"\" Makes predictions for new data x_test using the trained model\"\"\"\n",
    "        return params[0]+params[1]*x_test"
   ]
  },
  {
   "cell_type": "code",
   "execution_count": 9,
   "metadata": {},
   "outputs": [],
   "source": [
    "# Importing libraries\n",
    "import numpy as np\n",
    "import matplotlib.pyplot as plt\n",
    "%matplotlib inline"
   ]
  },
  {
   "cell_type": "code",
   "execution_count": 10,
   "metadata": {},
   "outputs": [],
   "source": [
    "# Input training data\n",
    "x_train = np.array([1,2,3,4,5,6]) \n",
    "y_train = np.array([2.1,3.5,4.2,4.8,5.6,5.8]) \n",
    "mod = LinearRegression(x_train=x_train,y_train=y_train)"
   ]
  },
  {
   "cell_type": "code",
   "execution_count": 11,
   "metadata": {},
   "outputs": [
    {
     "data": {
      "text/plain": [
       "<matplotlib.collections.PathCollection at 0x60e49f0>"
      ]
     },
     "execution_count": 11,
     "metadata": {},
     "output_type": "execute_result"
    },
    {
     "data": {
      "image/png": "[encoded data removed]",
      "text/plain": [
       "<Figure size 432x288 with 1 Axes>"
      ]
     },
     "metadata": {
      "needs_background": "light"
     },
     "output_type": "display_data"
    }
   ],
   "source": [
    "# Ploting training data\n",
    "plt.scatter(x_train,y_train)"
   ]
  },
  {
   "cell_type": "code",
   "execution_count": 12,
   "metadata": {},
   "outputs": [
    {
     "name": "stdout",
     "output_type": "stream",
     "text": [
      "___________________________________\n",
      "Iteration: 1\n",
      "Cost: 102.51\n",
      "Parameters: (0.4779999999999999, 1.992)\n",
      "___________________________________\n",
      "Iteration: 2\n",
      "Cost: 86.79932\n",
      "Parameters: (0.10399999999999993, 0.2398)\n",
      "___________________________________\n",
      "Iteration: 3\n",
      "Cost: 73.54269004\n",
      "Parameters: (0.510804, 1.8336839999999999)\n",
      "___________________________________\n",
      "Iteration: 4\n",
      "Cost: 62.3552139587\n",
      "Parameters: (0.19936024000000002, 0.35584144000000006)\n",
      "___________________________________\n",
      "Iteration: 5\n",
      "Cost: 52.9124314291\n",
      "Parameters: (0.5459836063999999, 1.6984787183999999)\n",
      "___________________________________\n",
      "Iteration: 646\n",
      "Cost: 0.456761904763\n",
      "Parameters: (1.7933323734427935, 0.7257145099249922)\n",
      "___________________________________\n",
      "Iteration: 647\n",
      "Cost: 0.456761904763\n",
      "Parameters: (1.7933323944611614, 0.725714505015533)\n",
      "___________________________________\n",
      "Iteration: 648\n",
      "Cost: 0.456761904763\n",
      "Parameters: (1.7933324150192982, 0.725714500213575)\n",
      "___________________________________\n",
      "Iteration: 649\n",
      "Cost: 0.456761904763\n",
      "Parameters: (1.7933324351272808, 0.7257144955167633)\n",
      "___________________________________\n",
      "Iteration: 650\n",
      "Cost: 0.456761904763\n",
      "Parameters: (1.7933324547949665, 0.725714490922796)\n"
     ]
    }
   ],
   "source": [
    "# Fitting the linear model\n",
    "params = mod.fit(params = np.array([0,0.1]),iterations = 650,alpha = 0.01)"
   ]
  },
  {
   "cell_type": "code",
   "execution_count": 13,
   "metadata": {},
   "outputs": [
    {
     "data": {
      "text/plain": [
       "<matplotlib.collections.PathCollection at 0x61cd7b0>"
      ]
     },
     "execution_count": 13,
     "metadata": {},
     "output_type": "execute_result"
    },
    {
     "data": {
      "image/png": "[encoded data removed]",
      "text/plain": [
       "<Figure size 432x288 with 1 Axes>"
      ]
     },
     "metadata": {
      "needs_background": "light"
     },
     "output_type": "display_data"
    }
   ],
   "source": [
    "# plot the model:\n",
    "x1 = np.arange(0,10,0.01)\n",
    "y1 = params[0]+params[1]*x1\n",
    "plt.plot(x1,y1)\n",
    "plt.scatter(x_train,y_train)"
   ]
  },
  {
   "cell_type": "code",
   "execution_count": 14,
   "metadata": {},
   "outputs": [
    {
     "data": {
      "text/plain": [
       "array([5.42190491, 6.1476194 , 6.87333389, 7.59904838, 8.32476287,\n",
       "       9.05047736])"
      ]
     },
     "execution_count": 14,
     "metadata": {},
     "output_type": "execute_result"
    }
   ],
   "source": [
    "# Making predictions on new data:\n",
    "x_test = np.array([5,6,7,8,9,10])\n",
    "y_pred = mod.predict(x_test)\n",
    "y_pred"
   ]
  }
 ],
 "metadata": {
  "kernelspec": {
   "display_name": "Python 2",
   "language": "python",
   "name": "python2"
  },
  "language_info": {
   "codemirror_mode": {
    "name": "ipython",
    "version": 2
   },
   "file_extension": ".py",
   "mimetype": "text/x-python",
   "name": "python",
   "nbconvert_exporter": "python",
   "pygments_lexer": "ipython2",
   "version": "2.7.16"
  }
 },
 "nbformat": 4,
 "nbformat_minor": 2
}
